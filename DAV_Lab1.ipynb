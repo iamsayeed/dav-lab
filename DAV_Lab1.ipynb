{
  "nbformat": 4,
  "nbformat_minor": 0,
  "metadata": {
    "colab": {
      "provenance": [],
      "authorship_tag": "ABX9TyMj18mpUawLQpH25CfD5tM+",
      "include_colab_link": true
    },
    "kernelspec": {
      "name": "python3",
      "display_name": "Python 3"
    },
    "language_info": {
      "name": "python"
    }
  },
  "cells": [
    {
      "cell_type": "markdown",
      "metadata": {
        "id": "view-in-github",
        "colab_type": "text"
      },
      "source": [
        "<a href=\"https://colab.research.google.com/github/RoshanKrO7/6sem/blob/main/DAV_Lab1.ipynb\" target=\"_parent\"><img src=\"https://colab.research.google.com/assets/colab-badge.svg\" alt=\"Open In Colab\"/></a>"
      ]
    },
    {
      "cell_type": "code",
      "execution_count": null,
      "metadata": {
        "colab": {
          "base_uri": "https://localhost:8080/"
        },
        "id": "EWEED-OoCHLD",
        "outputId": "2518972c-f0e6-4bfc-c1a8-6b2998cae5cf"
      },
      "outputs": [
        {
          "output_type": "stream",
          "name": "stdout",
          "text": [
            "[ 12.23  13.32 100.    36.32]\n"
          ]
        }
      ],
      "source": [
        "import numpy as np\n",
        "\n",
        "list_of_numbers =[12.23, 13.32, 100, 36.32]\n",
        "\n",
        "np_array = np.array(list_of_numbers)\n",
        "\n",
        "print(np_array)"
      ]
    },
    {
      "cell_type": "code",
      "source": [
        "matrix = np.arange(2, 11).reshape(3, 3)\n",
        "print(matrix)\n",
        "\n"
      ],
      "metadata": {
        "colab": {
          "base_uri": "https://localhost:8080/"
        },
        "id": "129pbGTrED41",
        "outputId": "d6d826b5-b15b-4587-f701-88a20ad5e6c7"
      },
      "execution_count": null,
      "outputs": [
        {
          "output_type": "stream",
          "name": "stdout",
          "text": [
            "[[ 2  3  4]\n",
            " [ 5  6  7]\n",
            " [ 8  9 10]]\n"
          ]
        }
      ]
    },
    {
      "cell_type": "code",
      "source": [
        "matrix = np.array([[7, 3, 4],\n",
        "                   [1, 8, 5],\n",
        "                   [9, 2, 6]])\n",
        "sorted_rows = np.sort(matrix, axis=0)\n",
        "sorted_columns = np.sort(matrix, axis=1)\n",
        "print(\"Sorted rows:\\n\", sorted_rows)\n",
        "print(\"\\nSorted columns:\\n\", sorted_columns)"
      ],
      "metadata": {
        "colab": {
          "base_uri": "https://localhost:8080/"
        },
        "id": "DjOeL3fjEIEW",
        "outputId": "79197a69-db38-441f-ce0d-2a80ef8b34a9"
      },
      "execution_count": null,
      "outputs": [
        {
          "output_type": "stream",
          "name": "stdout",
          "text": [
            "Sorted rows:\n",
            " [[1 2 4]\n",
            " [7 3 5]\n",
            " [9 8 6]]\n",
            "\n",
            "Sorted columns:\n",
            " [[3 4 7]\n",
            " [1 5 8]\n",
            " [2 6 9]]\n"
          ]
        }
      ]
    },
    {
      "cell_type": "code",
      "source": [
        "arr = np.array([[1, 2, 3], [4, 5, 6]])\n",
        "flat_arr = arr.flatten(order='F')\n",
        "print(flat_arr)\n"
      ],
      "metadata": {
        "id": "wqqfgSsJE031",
        "colab": {
          "base_uri": "https://localhost:8080/"
        },
        "outputId": "07ebdfb3-f564-4a42-89be-eb0cb7b669a4"
      },
      "execution_count": null,
      "outputs": [
        {
          "output_type": "stream",
          "name": "stdout",
          "text": [
            "[1 4 2 5 3 6]\n"
          ]
        }
      ]
    },
    {
      "cell_type": "code",
      "source": [
        "random_ints = np.random.randint(10, 31, size=6)\n",
        "print(random_ints)\n"
      ],
      "metadata": {
        "colab": {
          "base_uri": "https://localhost:8080/"
        },
        "id": "9kAy8AMlOiOe",
        "outputId": "83612594-c598-438c-d87d-d3d69169125c"
      },
      "execution_count": null,
      "outputs": [
        {
          "output_type": "stream",
          "name": "stdout",
          "text": [
            "[26 20 25 29 30 13]\n"
          ]
        }
      ]
    },
    {
      "cell_type": "code",
      "source": [
        "array = np.random.rand(5, 5)\n",
        "min_value = np.min(array)\n",
        "max_value = np.max(array)\n",
        "print(array)\n",
        "print(\"Minimum value:\", min_value)\n",
        "print(\"Maximum value:\", max_value)"
      ],
      "metadata": {
        "colab": {
          "base_uri": "https://localhost:8080/"
        },
        "id": "1AbNcyVP9gqN",
        "outputId": "a88a0c02-1cda-4dc8-9f40-aafe694f6c49"
      },
      "execution_count": null,
      "outputs": [
        {
          "output_type": "stream",
          "name": "stdout",
          "text": [
            "[[0.62370952 0.30476614 0.08917114 0.2639633  0.92170277]\n",
            " [0.38923205 0.01834754 0.35776056 0.81124226 0.33304547]\n",
            " [0.75667424 0.93585277 0.06834553 0.57638727 0.4209989 ]\n",
            " [0.02657837 0.36812911 0.22404624 0.04386418 0.2500326 ]\n",
            " [0.50670422 0.85742343 0.08649466 0.72494086 0.86615095]]\n",
            "Minimum value: 0.018347537272371373\n",
            "Maximum value: 0.9358527723295474\n"
          ]
        }
      ]
    }
  ]
}
