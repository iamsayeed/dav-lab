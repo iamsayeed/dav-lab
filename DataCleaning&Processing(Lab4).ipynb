{
  "nbformat": 4,
  "nbformat_minor": 0,
  "metadata": {
    "colab": {
      "provenance": [],
      "authorship_tag": "ABX9TyPXB/Zb6JAnz2vrcXFXUpJk",
      "include_colab_link": true
    },
    "kernelspec": {
      "name": "python3",
      "display_name": "Python 3"
    },
    "language_info": {
      "name": "python"
    }
  },
  "cells": [
    {
      "cell_type": "markdown",
      "metadata": {
        "id": "view-in-github",
        "colab_type": "text"
      },
      "source": [
        "<a href=\"https://colab.research.google.com/github/RoshanKrO7/DataAnalyticsAndVisualisation/blob/main/DataCleaning%26Processing(Lab4).ipynb\" target=\"_parent\"><img src=\"https://colab.research.google.com/assets/colab-badge.svg\" alt=\"Open In Colab\"/></a>"
      ]
    },
    {
      "cell_type": "code",
      "source": [],
      "metadata": {
        "id": "8FkTsX_l7mO-"
      },
      "execution_count": null,
      "outputs": []
    },
    {
      "cell_type": "code",
      "execution_count": null,
      "metadata": {
        "colab": {
          "base_uri": "https://localhost:8080/"
        },
        "id": "ZjaHrqsfHhDH",
        "outputId": "11c1b5f4-5df0-46cb-8d11-521b0cbba748"
      },
      "outputs": [
        {
          "output_type": "stream",
          "name": "stdout",
          "text": [
            "        one       two     three\n",
            "a  1.212389 -1.000505 -0.321183\n",
            "c -0.627585  0.515692 -0.231259\n",
            "e  0.238247  1.192533 -1.553773\n",
            "f -1.170373 -0.343440  0.153600\n",
            "h  0.976162 -0.778032 -0.026465\n",
            "        one       two     three\n",
            "a  1.212389 -1.000505 -0.321183\n",
            "b       NaN       NaN       NaN\n",
            "c -0.627585  0.515692 -0.231259\n",
            "d       NaN       NaN       NaN\n",
            "e  0.238247  1.192533 -1.553773\n",
            "f -1.170373 -0.343440  0.153600\n",
            "g       NaN       NaN       NaN\n",
            "h  0.976162 -0.778032 -0.026465\n"
          ]
        }
      ],
      "source": [
        "import pandas as pd\n",
        "import numpy as np\n",
        "df = pd.DataFrame(np.random.randn(5, 3), index=['a', 'c', 'e', 'f','h'],columns=['one', 'two', 'three'])\n",
        "print(df)\n",
        "df = df.reindex(['a', 'b', 'c', 'd', 'e', 'f', 'g', 'h'])\n",
        "print (df)"
      ]
    },
    {
      "cell_type": "code",
      "source": [
        "df = pd.DataFrame(np.random.randn(5, 3), index=['a', 'c', 'e', 'f',\n",
        "'h'],columns=['one', 'two', 'three'])\n",
        "df = df.reindex(['a', 'b', 'c', 'd', 'e', 'f', 'g', 'h'])\n",
        "print (df['one'].isnull())\n"
      ],
      "metadata": {
        "colab": {
          "base_uri": "https://localhost:8080/"
        },
        "id": "qi7Bq1COIyUT",
        "outputId": "e35331a2-ad4d-4788-85b8-fdb38ebba9bb"
      },
      "execution_count": null,
      "outputs": [
        {
          "output_type": "stream",
          "name": "stdout",
          "text": [
            "a    False\n",
            "b     True\n",
            "c    False\n",
            "d     True\n",
            "e    False\n",
            "f    False\n",
            "g     True\n",
            "h    False\n",
            "Name: one, dtype: bool\n"
          ]
        }
      ]
    },
    {
      "cell_type": "code",
      "source": [
        "df = pd.DataFrame(np.random.randn(3, 3), index=['a', 'c', 'e'],columns=['one',\n",
        "'two', 'three'])\n",
        "df = df.reindex(['a', 'b', 'c'])\n",
        "print (df)\n",
        "print (\"NaN replaced with '0':\")\n",
        "print (df.fillna(0))"
      ],
      "metadata": {
        "colab": {
          "base_uri": "https://localhost:8080/"
        },
        "id": "Ffvn1gUbJgJ9",
        "outputId": "6b4f46f9-9942-4de7-c823-5ea8cd360239"
      },
      "execution_count": null,
      "outputs": [
        {
          "output_type": "stream",
          "name": "stdout",
          "text": [
            "        one       two     three\n",
            "a -0.200728 -0.449055  0.923772\n",
            "b       NaN       NaN       NaN\n",
            "c -2.014818 -0.690258  0.426269\n",
            "NaN replaced with '0':\n",
            "        one       two     three\n",
            "a -0.200728 -0.449055  0.923772\n",
            "b  0.000000  0.000000  0.000000\n",
            "c -2.014818 -0.690258  0.426269\n"
          ]
        }
      ]
    },
    {
      "cell_type": "code",
      "source": [
        "df = pd.DataFrame(np.random.randn(5, 3), index=['a', 'c', 'e', 'f',\n",
        "'h'],columns=['one', 'two', 'three'])\n",
        "df = df.reindex(['a', 'b', 'c', 'd', 'e', 'f', 'g', 'h'])\n",
        "print(df)\n",
        "print (df.fillna(method='pad'))\n"
      ],
      "metadata": {
        "colab": {
          "base_uri": "https://localhost:8080/"
        },
        "id": "VGkRsan0J_5y",
        "outputId": "6d3b12aa-0a81-45b5-8b7b-c294379c2a70"
      },
      "execution_count": null,
      "outputs": [
        {
          "output_type": "stream",
          "name": "stdout",
          "text": [
            "        one       two     three\n",
            "a  1.351262 -0.120833  0.776114\n",
            "b       NaN       NaN       NaN\n",
            "c  0.012546  0.746688  0.136396\n",
            "d       NaN       NaN       NaN\n",
            "e  0.762265 -0.951696  1.001406\n",
            "f -0.436498  1.971682  1.862302\n",
            "g       NaN       NaN       NaN\n",
            "h  0.736386 -0.392597  0.881640\n",
            "        one       two     three\n",
            "a  1.351262 -0.120833  0.776114\n",
            "b  1.351262 -0.120833  0.776114\n",
            "c  0.012546  0.746688  0.136396\n",
            "d  0.012546  0.746688  0.136396\n",
            "e  0.762265 -0.951696  1.001406\n",
            "f -0.436498  1.971682  1.862302\n",
            "g -0.436498  1.971682  1.862302\n",
            "h  0.736386 -0.392597  0.881640\n"
          ]
        }
      ]
    },
    {
      "cell_type": "code",
      "source": [
        "df = pd.DataFrame(np.random.randn(5, 3), index=['a', 'c', 'e', 'f',\n",
        "'h'],columns=['one', 'two', 'three'])\n",
        "df = df.reindex(['a', 'b', 'c', 'd', 'e', 'f', 'g', 'h'])\n",
        "print (df.fillna(method='bfill'))\n"
      ],
      "metadata": {
        "colab": {
          "base_uri": "https://localhost:8080/"
        },
        "id": "G1jLezwSKVJk",
        "outputId": "71706976-ecfd-4939-cbe2-50ce41ed93e7"
      },
      "execution_count": null,
      "outputs": [
        {
          "output_type": "stream",
          "name": "stdout",
          "text": [
            "        one       two     three\n",
            "a -0.340340  0.562839  0.728598\n",
            "b -0.315429 -1.664131 -0.862011\n",
            "c -0.315429 -1.664131 -0.862011\n",
            "d  0.130940 -0.614540  1.010496\n",
            "e  0.130940 -0.614540  1.010496\n",
            "f -0.383269 -0.087129 -0.913541\n",
            "g  0.147607  0.360324  0.515357\n",
            "h  0.147607  0.360324  0.515357\n"
          ]
        }
      ]
    },
    {
      "cell_type": "code",
      "source": [
        "df = pd.DataFrame(np.random.randn(5, 3), index=['a', 'c', 'e', 'f',\n",
        "'h'],columns=['one', 'two', 'three'])\n",
        "#print(df)\n",
        "df = df.reindex(['a', 'b', 'c', 'd', 'e', 'f', 'g', 'h'])\n",
        "print(df)\n",
        "print (df.dropna())\n"
      ],
      "metadata": {
        "colab": {
          "base_uri": "https://localhost:8080/"
        },
        "id": "6tLjdGLpKZHX",
        "outputId": "1c9d30a8-d630-4368-b417-e0f8b88dffa3"
      },
      "execution_count": null,
      "outputs": [
        {
          "output_type": "stream",
          "name": "stdout",
          "text": [
            "        one       two     three\n",
            "a -1.307027 -0.732116 -0.132183\n",
            "b       NaN       NaN       NaN\n",
            "c  0.603761 -2.232825 -0.594313\n",
            "d       NaN       NaN       NaN\n",
            "e -0.930812  1.002637 -1.006453\n",
            "f  0.356472  0.206759 -0.673405\n",
            "g       NaN       NaN       NaN\n",
            "h  0.034145 -0.221348 -2.184125\n",
            "        one       two     three\n",
            "a -1.307027 -0.732116 -0.132183\n",
            "c  0.603761 -2.232825 -0.594313\n",
            "e -0.930812  1.002637 -1.006453\n",
            "f  0.356472  0.206759 -0.673405\n",
            "h  0.034145 -0.221348 -2.184125\n"
          ]
        }
      ]
    },
    {
      "cell_type": "code",
      "source": [
        "df = pd.DataFrame({'one':[10,20,30,40,50,2000],\n",
        "'two':[1000,0,30,40,50,60]})\n",
        "print(df)\n",
        "print (df.replace({1000:10,2000:60}))"
      ],
      "metadata": {
        "colab": {
          "base_uri": "https://localhost:8080/"
        },
        "id": "zFuaHq7dKiNk",
        "outputId": "509cfc0f-a61a-45ca-9f7b-b09ded555704"
      },
      "execution_count": null,
      "outputs": [
        {
          "output_type": "stream",
          "name": "stdout",
          "text": [
            "    one   two\n",
            "0    10  1000\n",
            "1    20     0\n",
            "2    30    30\n",
            "3    40    40\n",
            "4    50    50\n",
            "5  2000    60\n",
            "   one  two\n",
            "0   10   10\n",
            "1   20    0\n",
            "2   30   30\n",
            "3   40   40\n",
            "4   50   50\n",
            "5   60   60\n"
          ]
        }
      ]
    },
    {
      "cell_type": "code",
      "source": [
        "df=pd.read_csv(\"/content/2,1 dataset titanic.csv\")\n",
        "df.info()"
      ],
      "metadata": {
        "colab": {
          "base_uri": "https://localhost:8080/"
        },
        "id": "Zit7BfPaLPF_",
        "outputId": "63e2a51b-7452-470f-c0a8-8be9e2dfaaa1"
      },
      "execution_count": null,
      "outputs": [
        {
          "output_type": "stream",
          "name": "stdout",
          "text": [
            "<class 'pandas.core.frame.DataFrame'>\n",
            "RangeIndex: 891 entries, 0 to 890\n",
            "Data columns (total 12 columns):\n",
            " #   Column       Non-Null Count  Dtype  \n",
            "---  ------       --------------  -----  \n",
            " 0   PassengerId  891 non-null    int64  \n",
            " 1   Survived     891 non-null    int64  \n",
            " 2   Pclass       891 non-null    int64  \n",
            " 3   Name         891 non-null    object \n",
            " 4   Sex          891 non-null    object \n",
            " 5   Age          714 non-null    float64\n",
            " 6   SibSp        891 non-null    int64  \n",
            " 7   Parch        891 non-null    int64  \n",
            " 8   Ticket       891 non-null    object \n",
            " 9   Fare         891 non-null    float64\n",
            " 10  Cabin        204 non-null    object \n",
            " 11  Embarked     889 non-null    object \n",
            "dtypes: float64(2), int64(5), object(5)\n",
            "memory usage: 83.7+ KB\n"
          ]
        }
      ]
    },
    {
      "cell_type": "code",
      "source": [
        "cols=['Name','Ticket','Cabin']\n",
        "df=df.drop(cols, axis=1)\n",
        "df.info()\n"
      ],
      "metadata": {
        "colab": {
          "base_uri": "https://localhost:8080/"
        },
        "id": "-VTShALfLhm-",
        "outputId": "64f1e09b-9da0-4bed-9891-2ce9565f1c51"
      },
      "execution_count": null,
      "outputs": [
        {
          "output_type": "stream",
          "name": "stdout",
          "text": [
            "<class 'pandas.core.frame.DataFrame'>\n",
            "RangeIndex: 891 entries, 0 to 890\n",
            "Data columns (total 9 columns):\n",
            " #   Column       Non-Null Count  Dtype  \n",
            "---  ------       --------------  -----  \n",
            " 0   PassengerId  891 non-null    int64  \n",
            " 1   Survived     891 non-null    int64  \n",
            " 2   Pclass       891 non-null    int64  \n",
            " 3   Sex          891 non-null    object \n",
            " 4   Age          714 non-null    float64\n",
            " 5   SibSp        891 non-null    int64  \n",
            " 6   Parch        891 non-null    int64  \n",
            " 7   Fare         891 non-null    float64\n",
            " 8   Embarked     889 non-null    object \n",
            "dtypes: float64(2), int64(5), object(2)\n",
            "memory usage: 62.8+ KB\n"
          ]
        }
      ]
    },
    {
      "cell_type": "code",
      "source": [
        "df = df.dropna()\n",
        "df.info()"
      ],
      "metadata": {
        "colab": {
          "base_uri": "https://localhost:8080/"
        },
        "id": "XTnpgICCLoZm",
        "outputId": "7b565041-f69e-4a20-b437-fda9cff5e2eb"
      },
      "execution_count": null,
      "outputs": [
        {
          "output_type": "stream",
          "name": "stdout",
          "text": [
            "<class 'pandas.core.frame.DataFrame'>\n",
            "Int64Index: 712 entries, 0 to 890\n",
            "Data columns (total 9 columns):\n",
            " #   Column       Non-Null Count  Dtype  \n",
            "---  ------       --------------  -----  \n",
            " 0   PassengerId  712 non-null    int64  \n",
            " 1   Survived     712 non-null    int64  \n",
            " 2   Pclass       712 non-null    int64  \n",
            " 3   Sex          712 non-null    object \n",
            " 4   Age          712 non-null    float64\n",
            " 5   SibSp        712 non-null    int64  \n",
            " 6   Parch        712 non-null    int64  \n",
            " 7   Fare         712 non-null    float64\n",
            " 8   Embarked     712 non-null    object \n",
            "dtypes: float64(2), int64(5), object(2)\n",
            "memory usage: 55.6+ KB\n"
          ]
        }
      ]
    },
    {
      "cell_type": "code",
      "source": [
        "dummies = []\n",
        "cols = ['Pclass', 'Sex', 'Embarked']\n",
        "for col in cols:\n",
        "  dummies.append(pd.get_dummies(df[col]))\n"
      ],
      "metadata": {
        "id": "uC3Tb4E1LzHo"
      },
      "execution_count": null,
      "outputs": []
    },
    {
      "cell_type": "code",
      "source": [
        "titanic_dummies = pd.concat(dummies, axis=1)\n"
      ],
      "metadata": {
        "id": "_4fDFTtuNYXM"
      },
      "execution_count": null,
      "outputs": []
    },
    {
      "cell_type": "code",
      "source": [
        "df = pd.concat((df,titanic_dummies), axis=1)\n"
      ],
      "metadata": {
        "id": "wnEpZTTeNcnR"
      },
      "execution_count": null,
      "outputs": []
    },
    {
      "cell_type": "code",
      "source": [
        "df = df.drop(['Pclass', 'Sex', 'Embarked'], axis=1)\n"
      ],
      "metadata": {
        "id": "xq8ADB8NNe82"
      },
      "execution_count": null,
      "outputs": []
    },
    {
      "cell_type": "code",
      "source": [
        "df['Age'] = df['Age'].interpolate()\n",
        "print(df)"
      ],
      "metadata": {
        "colab": {
          "base_uri": "https://localhost:8080/"
        },
        "id": "kpcMsyrXNiP-",
        "outputId": "2d396ca5-2c96-4f03-f578-e0e7a9466f2a"
      },
      "execution_count": null,
      "outputs": [
        {
          "output_type": "stream",
          "name": "stdout",
          "text": [
            "     PassengerId  Survived   Age  SibSp  Parch     Fare  1  2  3  female  \\\n",
            "0              1         0  22.0      1      0   7.2500  0  0  1       0   \n",
            "1              2         1  38.0      1      0  71.2833  1  0  0       1   \n",
            "2              3         1  26.0      0      0   7.9250  0  0  1       1   \n",
            "3              4         1  35.0      1      0  53.1000  1  0  0       1   \n",
            "4              5         0  35.0      0      0   8.0500  0  0  1       0   \n",
            "..           ...       ...   ...    ...    ...      ... .. .. ..     ...   \n",
            "885          886         0  39.0      0      5  29.1250  0  0  1       1   \n",
            "886          887         0  27.0      0      0  13.0000  0  1  0       0   \n",
            "887          888         1  19.0      0      0  30.0000  1  0  0       1   \n",
            "889          890         1  26.0      0      0  30.0000  1  0  0       0   \n",
            "890          891         0  32.0      0      0   7.7500  0  0  1       0   \n",
            "\n",
            "     male  C  Q  S  \n",
            "0       1  0  0  1  \n",
            "1       0  1  0  0  \n",
            "2       0  0  0  1  \n",
            "3       0  0  0  1  \n",
            "4       1  0  0  1  \n",
            "..    ... .. .. ..  \n",
            "885     0  0  1  0  \n",
            "886     1  0  0  1  \n",
            "887     0  0  0  1  \n",
            "889     1  1  0  0  \n",
            "890     1  0  1  0  \n",
            "\n",
            "[712 rows x 14 columns]\n"
          ]
        }
      ]
    },
    {
      "cell_type": "code",
      "source": [
        "from sklearn.preprocessing import MinMaxScaler\n",
        "data = [[-1, 2], [-0.5, 6], [0, 10], [1, 18]]\n",
        "scaler = MinMaxScaler()\n",
        "print(scaler.fit(data))\n",
        "MinMaxScaler()\n",
        "print(scaler.data_max_)\n",
        "print(scaler.transform(data))"
      ],
      "metadata": {
        "colab": {
          "base_uri": "https://localhost:8080/"
        },
        "id": "0_S7zC7wNrMd",
        "outputId": "c7aa6f83-2b05-4188-f49d-fd37ea9e1b38"
      },
      "execution_count": null,
      "outputs": [
        {
          "output_type": "stream",
          "name": "stdout",
          "text": [
            "MinMaxScaler()\n",
            "[ 1. 18.]\n",
            "[[0.   0.  ]\n",
            " [0.25 0.25]\n",
            " [0.5  0.5 ]\n",
            " [1.   1.  ]]\n"
          ]
        }
      ]
    },
    {
      "cell_type": "code",
      "source": [
        "from numpy import asarray\n",
        "from sklearn.preprocessing import StandardScaler\n",
        "# define data\n",
        "data = asarray([[100, 0.001],\n",
        "[8, 0.05],\n",
        "[50, 0.005],\n",
        "[88, 0.07],\n",
        "[4, 0.1]])\n",
        "print(data)\n",
        "# define standard scaler\n",
        "scaler = StandardScaler()\n",
        "# transform data\n",
        "scaled = scaler.fit_transform(data)\n",
        "print(scaled)\n"
      ],
      "metadata": {
        "id": "YT69NO4KN2Ym",
        "outputId": "abda0532-a0ae-478f-c7b5-4b58b50899df",
        "colab": {
          "base_uri": "https://localhost:8080/"
        }
      },
      "execution_count": null,
      "outputs": [
        {
          "output_type": "stream",
          "name": "stdout",
          "text": [
            "[[1.0e+02 1.0e-03]\n",
            " [8.0e+00 5.0e-02]\n",
            " [5.0e+01 5.0e-03]\n",
            " [8.8e+01 7.0e-02]\n",
            " [4.0e+00 1.0e-01]]\n",
            "[[ 1.26398112 -1.16389967]\n",
            " [-1.06174414  0.12639634]\n",
            " [ 0.         -1.05856939]\n",
            " [ 0.96062565  0.65304778]\n",
            " [-1.16286263  1.44302493]]\n"
          ]
        }
      ]
    }
  ]
}
